{
 "cells": [
  {
   "cell_type": "code",
   "execution_count": 1,
   "id": "190ea66b",
   "metadata": {},
   "outputs": [],
   "source": [
    "import numpy as np\n",
    "import pandas as pd\n",
    "\n",
    "from datamodule import DataModule\n",
    "from portfolio import Portfolio\n",
    "from simulator import Simulator\n",
    "\n",
    "\n",
    "from strategies.base_strategy import TestStrategy\n",
    "from strategies.ols_ratios import OLSRatios\n",
    "from strategies.logit_ratios import LogitRatios\n",
    "from strategies.nn_ratios import NNRatios"
   ]
  },
  {
   "cell_type": "code",
   "execution_count": 2,
   "id": "478fa7ba",
   "metadata": {},
   "outputs": [
    {
     "name": "stderr",
     "output_type": "stream",
     "text": [
      "GPU available: False, used: False\n",
      "TPU available: False, using: 0 TPU cores\n",
      "IPU available: False, using: 0 IPUs\n",
      "HPU available: False, using: 0 HPUs\n",
      "`Trainer(val_check_interval=1.0)` was configured so validation will run at the end of the training epoch..\n"
     ]
    }
   ],
   "source": [
    "dm = DataModule()\n",
    "pf = Portfolio()\n",
    "sr = NNRatios()\n",
    "sm = Simulator(dm, pf, sr, 'yearly')"
   ]
  },
  {
   "cell_type": "code",
   "execution_count": 3,
   "id": "14ffe6b4",
   "metadata": {
    "tags": []
   },
   "outputs": [
    {
     "name": "stderr",
     "output_type": "stream",
     "text": [
      "Simulation in progress:   0%|                                                | 0/18 [00:00<?, ?it/s]/home/jovyan/work/src/strategies/nn_ratios.py:82: UserWarning: To copy construct from a tensor, it is recommended to use sourceTensor.clone().detach() or sourceTensor.clone().detach().requires_grad_(True), rather than torch.tensor(sourceTensor).\n",
      "  self.data_y = torch.tensor(self.data_y, dtype=torch.int64)\n",
      "/opt/conda/lib/python3.10/site-packages/pytorch_lightning/callbacks/model_checkpoint.py:611: UserWarning: Checkpoint directory /home/jovyan/work/src/pretrained_models exists and is not empty.\n",
      "  rank_zero_warn(f\"Checkpoint directory {dirpath} exists and is not empty.\")\n",
      "\n",
      "  | Name       | Type             | Params\n",
      "------------------------------------------------\n",
      "0 | layer_1    | Linear           | 1.5 K \n",
      "1 | activation | Tanh             | 0     \n",
      "2 | loss       | CrossEntropyLoss | 0     \n",
      "3 | layer_2    | Linear           | 258   \n",
      "------------------------------------------------\n",
      "1.8 K     Trainable params\n",
      "0         Non-trainable params\n",
      "1.8 K     Total params\n",
      "0.007     Total estimated model params size (MB)\n"
     ]
    },
    {
     "data": {
      "application/vnd.jupyter.widget-view+json": {
       "model_id": "",
       "version_major": 2,
       "version_minor": 0
      },
      "text/plain": [
       "Sanity Checking: 0it [00:00, ?it/s]"
      ]
     },
     "metadata": {},
     "output_type": "display_data"
    },
    {
     "name": "stderr",
     "output_type": "stream",
     "text": [
      "/opt/conda/lib/python3.10/site-packages/pytorch_lightning/trainer/connectors/data_connector.py:240: PossibleUserWarning: The dataloader, val_dataloader 0, does not have many workers which may be a bottleneck. Consider increasing the value of the `num_workers` argument` (try 6 which is the number of cpus on this machine) in the `DataLoader` init to improve performance.\n",
      "  rank_zero_warn(\n",
      "/opt/conda/lib/python3.10/site-packages/pytorch_lightning/trainer/connectors/data_connector.py:240: PossibleUserWarning: The dataloader, train_dataloader, does not have many workers which may be a bottleneck. Consider increasing the value of the `num_workers` argument` (try 6 which is the number of cpus on this machine) in the `DataLoader` init to improve performance.\n",
      "  rank_zero_warn(\n",
      "/opt/conda/lib/python3.10/site-packages/pytorch_lightning/trainer/trainer.py:1933: PossibleUserWarning: The number of training batches (48) is smaller than the logging interval Trainer(log_every_n_steps=50). Set a lower value for log_every_n_steps if you want to see logs for the training epoch.\n",
      "  rank_zero_warn(\n"
     ]
    },
    {
     "data": {
      "application/vnd.jupyter.widget-view+json": {
       "model_id": "cc885fa841614070b751cc2955f59abf",
       "version_major": 2,
       "version_minor": 0
      },
      "text/plain": [
       "Training: 0it [00:00, ?it/s]"
      ]
     },
     "metadata": {},
     "output_type": "display_data"
    },
    {
     "data": {
      "application/vnd.jupyter.widget-view+json": {
       "model_id": "",
       "version_major": 2,
       "version_minor": 0
      },
      "text/plain": [
       "Validation: 0it [00:00, ?it/s]"
      ]
     },
     "metadata": {},
     "output_type": "display_data"
    },
    {
     "data": {
      "application/vnd.jupyter.widget-view+json": {
       "model_id": "",
       "version_major": 2,
       "version_minor": 0
      },
      "text/plain": [
       "Validation: 0it [00:00, ?it/s]"
      ]
     },
     "metadata": {},
     "output_type": "display_data"
    },
    {
     "data": {
      "application/vnd.jupyter.widget-view+json": {
       "model_id": "",
       "version_major": 2,
       "version_minor": 0
      },
      "text/plain": [
       "Validation: 0it [00:00, ?it/s]"
      ]
     },
     "metadata": {},
     "output_type": "display_data"
    },
    {
     "name": "stderr",
     "output_type": "stream",
     "text": [
      "Simulation in progress: 100%|███████████████████████████████████████| 18/18 [00:39<00:00,  2.22s/it]"
     ]
    },
    {
     "name": "stdout",
     "output_type": "stream",
     "text": [
      "...Printing the portfolio history...\n",
      "------------------------\n",
      "|            |         |\n",
      "|    Date    |  Value  |\n",
      "|            |         |\n",
      "------------------------\n",
      "| 2010-01-04 | 100.00  |\n",
      "| 2011-01-04 | 117.38  |\n",
      "| 2012-01-04 |  79.85  |\n",
      "| 2013-01-04 |  81.57  |\n",
      "| 2014-01-06 | 106.55  |\n",
      "| 2015-01-05 | 155.12  |\n",
      "| 2016-01-04 | 250.75  |\n",
      "| 2017-01-04 | 232.56  |\n",
      "| 2018-01-04 | 211.16  |\n",
      "| 2019-01-04 | 145.48  |\n",
      "| 2020-01-06 | 192.78  |\n",
      "| 2021-01-04 | 233.37  |\n",
      "| 2022-01-04 | 281.69  |\n",
      "------------------------\n"
     ]
    },
    {
     "name": "stderr",
     "output_type": "stream",
     "text": [
      "\n"
     ]
    }
   ],
   "source": [
    "sm.simulate(False)"
   ]
  },
  {
   "cell_type": "code",
   "execution_count": 4,
   "id": "417e37ac",
   "metadata": {},
   "outputs": [
    {
     "name": "stdout",
     "output_type": "stream",
     "text": [
      "Sharpe: 1.10\n",
      "Return to Drawdown: 3.53\n"
     ]
    }
   ],
   "source": [
    "sm.compute_metrics(log_metrics_wandb=False, verbose=True)"
   ]
  },
  {
   "cell_type": "code",
   "execution_count": null,
   "id": "780aa01f-3684-41ca-bd9d-7e971d07a6ab",
   "metadata": {},
   "outputs": [],
   "source": []
  }
 ],
 "metadata": {
  "kernelspec": {
   "display_name": "Python 3 (ipykernel)",
   "language": "python",
   "name": "python3"
  },
  "language_info": {
   "codemirror_mode": {
    "name": "ipython",
    "version": 3
   },
   "file_extension": ".py",
   "mimetype": "text/x-python",
   "name": "python",
   "nbconvert_exporter": "python",
   "pygments_lexer": "ipython3",
   "version": "3.10.5"
  }
 },
 "nbformat": 4,
 "nbformat_minor": 5
}
