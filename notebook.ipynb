{
 "cells": [
  {
   "cell_type": "code",
   "execution_count": 1,
   "id": "190ea66b",
   "metadata": {},
   "outputs": [
    {
     "name": "stderr",
     "output_type": "stream",
     "text": [
      "Global seed set to 0\n"
     ]
    }
   ],
   "source": [
    "import os\n",
    "import sys\n",
    "\n",
    "cwd = os.getcwd()\n",
    "root_path = cwd + '/'\n",
    "sys.path.insert(0, root_path)\n",
    "\n",
    "\n",
    "import numpy as np\n",
    "import pandas as pd\n",
    "\n",
    "from src.datamodule import DataModule\n",
    "from src.portfolio import Portfolio\n",
    "from src.simulator import Simulator\n",
    "\n",
    "\n",
    "from src.strategies.base_strategy import TestStrategy\n",
    "from src.strategies.ols_ratios import OLSRatios\n",
    "from src.strategies.logit_ratios import LogitRatios\n",
    "from src.strategies.nn_ratios import NNRatios"
   ]
  },
  {
   "cell_type": "code",
   "execution_count": 2,
   "id": "f7833de9",
   "metadata": {},
   "outputs": [],
   "source": [
    "# Please set your custom parameters directly here or by changing the cfg.py file"
   ]
  },
  {
   "cell_type": "code",
   "execution_count": null,
   "id": "478fa7ba",
   "metadata": {},
   "outputs": [],
   "source": [
    "dm = DataModule()\n",
    "pf = Portfolio()\n",
    "sr = OLSRatios()\n",
    "sm = Simulator(dm, pf, sr, 'yearly')"
   ]
  },
  {
   "cell_type": "code",
   "execution_count": null,
   "id": "14ffe6b4",
   "metadata": {
    "tags": []
   },
   "outputs": [],
   "source": [
    "sm.simulate(verbose=True)"
   ]
  },
  {
   "cell_type": "code",
   "execution_count": 2,
   "id": "417e37ac",
   "metadata": {},
   "outputs": [
    {
     "ename": "NameError",
     "evalue": "name 'sm' is not defined",
     "output_type": "error",
     "traceback": [
      "\u001b[0;31m---------------------------------------------------------------------------\u001b[0m",
      "\u001b[0;31mNameError\u001b[0m                                 Traceback (most recent call last)",
      "Input \u001b[0;32mIn [2]\u001b[0m, in \u001b[0;36m<cell line: 1>\u001b[0;34m()\u001b[0m\n\u001b[0;32m----> 1\u001b[0m \u001b[43msm\u001b[49m\u001b[38;5;241m.\u001b[39mcompute_metrics(log_metrics_wandb\u001b[38;5;241m=\u001b[39m\u001b[38;5;28;01mFalse\u001b[39;00m, verbose\u001b[38;5;241m=\u001b[39m\u001b[38;5;28;01mTrue\u001b[39;00m)\n",
      "\u001b[0;31mNameError\u001b[0m: name 'sm' is not defined"
     ]
    }
   ],
   "source": [
    "sm.compute_metrics(verbose=True)"
   ]
  },
  {
   "cell_type": "code",
   "execution_count": null,
   "id": "780aa01f-3684-41ca-bd9d-7e971d07a6ab",
   "metadata": {},
   "outputs": [],
   "source": []
  }
 ],
 "metadata": {
  "kernelspec": {
   "display_name": "Python 3 (ipykernel)",
   "language": "python",
   "name": "python3"
  },
  "language_info": {
   "codemirror_mode": {
    "name": "ipython",
    "version": 3
   },
   "file_extension": ".py",
   "mimetype": "text/x-python",
   "name": "python",
   "nbconvert_exporter": "python",
   "pygments_lexer": "ipython3",
   "version": "3.10.4"
  }
 },
 "nbformat": 4,
 "nbformat_minor": 5
}
