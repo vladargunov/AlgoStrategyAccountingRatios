{
 "cells": [
  {
   "cell_type": "code",
   "execution_count": 1,
   "id": "190ea66b",
   "metadata": {},
   "outputs": [],
   "source": [
    "import numpy as np\n",
    "import pandas as pd\n",
    "\n",
    "from datamodule import DataModule\n",
    "from portfolio import Portfolio\n",
    "from simulator import Simulator"
   ]
  },
  {
   "cell_type": "code",
   "execution_count": 2,
   "id": "6389dbc9",
   "metadata": {},
   "outputs": [],
   "source": [
    "# tickers = pd.read_csv(\"./data/ticker_info.csv\")\n",
    "# data = pd.read_csv(\"./data/stock_data.csv\")"
   ]
  },
  {
   "cell_type": "code",
   "execution_count": 3,
   "id": "478fa7ba",
   "metadata": {},
   "outputs": [],
   "source": [
    "dm = DataModule()\n",
    "sm = Simulator(dm, None, None, 'weekly')"
   ]
  },
  {
   "cell_type": "code",
   "execution_count": 4,
   "id": "41835d7f",
   "metadata": {},
   "outputs": [],
   "source": [
    "from datetime import date, timedelta\n",
    "from dateutil.relativedelta import relativedelta\n",
    "\n",
    "n = np.array([date.fromisoformat(d) for d in sm.dates])"
   ]
  },
  {
   "cell_type": "code",
   "execution_count": 5,
   "id": "1effde28",
   "metadata": {},
   "outputs": [
    {
     "data": {
      "text/plain": [
       "array([datetime.timedelta(days=7), datetime.timedelta(days=7),\n",
       "       datetime.timedelta(days=7), datetime.timedelta(days=7),\n",
       "       datetime.timedelta(days=15), datetime.timedelta(days=7),\n",
       "       datetime.timedelta(days=7), datetime.timedelta(days=7),\n",
       "       datetime.timedelta(days=7), datetime.timedelta(days=7),\n",
       "       datetime.timedelta(days=7), datetime.timedelta(days=7),\n",
       "       datetime.timedelta(days=7), datetime.timedelta(days=7),\n",
       "       datetime.timedelta(days=7), datetime.timedelta(days=12),\n",
       "       datetime.timedelta(days=7), datetime.timedelta(days=7),\n",
       "       datetime.timedelta(days=7), datetime.timedelta(days=7),\n",
       "       datetime.timedelta(days=7), datetime.timedelta(days=7),\n",
       "       datetime.timedelta(days=7), datetime.timedelta(days=7),\n",
       "       datetime.timedelta(days=7), datetime.timedelta(days=7),\n",
       "       datetime.timedelta(days=7), datetime.timedelta(days=7),\n",
       "       datetime.timedelta(days=7), datetime.timedelta(days=7),\n",
       "       datetime.timedelta(days=7), datetime.timedelta(days=7),\n",
       "       datetime.timedelta(days=7), datetime.timedelta(days=7),\n",
       "       datetime.timedelta(days=7), datetime.timedelta(days=7),\n",
       "       datetime.timedelta(days=14), datetime.timedelta(days=7),\n",
       "       datetime.timedelta(days=7), datetime.timedelta(days=7),\n",
       "       datetime.timedelta(days=7), datetime.timedelta(days=7),\n",
       "       datetime.timedelta(days=7), datetime.timedelta(days=7),\n",
       "       datetime.timedelta(days=7), datetime.timedelta(days=7),\n",
       "       datetime.timedelta(days=7), datetime.timedelta(days=7),\n",
       "       datetime.timedelta(days=9), datetime.timedelta(days=7),\n",
       "       datetime.timedelta(days=7), datetime.timedelta(days=7),\n",
       "       datetime.timedelta(days=12), datetime.timedelta(days=7),\n",
       "       datetime.timedelta(days=7), datetime.timedelta(days=7),\n",
       "       datetime.timedelta(days=7), datetime.timedelta(days=7),\n",
       "       datetime.timedelta(days=7), datetime.timedelta(days=7),\n",
       "       datetime.timedelta(days=7), datetime.timedelta(days=7),\n",
       "       datetime.timedelta(days=7), datetime.timedelta(days=7),\n",
       "       datetime.timedelta(days=14), datetime.timedelta(days=7),\n",
       "       datetime.timedelta(days=7), datetime.timedelta(days=7),\n",
       "       datetime.timedelta(days=7), datetime.timedelta(days=7),\n",
       "       datetime.timedelta(days=7), datetime.timedelta(days=7),\n",
       "       datetime.timedelta(days=7), datetime.timedelta(days=7),\n",
       "       datetime.timedelta(days=7), datetime.timedelta(days=7),\n",
       "       datetime.timedelta(days=7), datetime.timedelta(days=7),\n",
       "       datetime.timedelta(days=7), datetime.timedelta(days=7),\n",
       "       datetime.timedelta(days=7), datetime.timedelta(days=7),\n",
       "       datetime.timedelta(days=7), datetime.timedelta(days=7),\n",
       "       datetime.timedelta(days=7), datetime.timedelta(days=14),\n",
       "       datetime.timedelta(days=7), datetime.timedelta(days=7),\n",
       "       datetime.timedelta(days=7), datetime.timedelta(days=7),\n",
       "       datetime.timedelta(days=7), datetime.timedelta(days=7),\n",
       "       datetime.timedelta(days=7), datetime.timedelta(days=7),\n",
       "       datetime.timedelta(days=7), datetime.timedelta(days=7),\n",
       "       datetime.timedelta(days=7), datetime.timedelta(days=10),\n",
       "       datetime.timedelta(days=7), datetime.timedelta(days=7),\n",
       "       datetime.timedelta(days=7), datetime.timedelta(days=7),\n",
       "       datetime.timedelta(days=7), datetime.timedelta(days=7),\n",
       "       datetime.timedelta(days=11), datetime.timedelta(days=7),\n",
       "       datetime.timedelta(days=7), datetime.timedelta(days=7),\n",
       "       datetime.timedelta(days=7), datetime.timedelta(days=7),\n",
       "       datetime.timedelta(days=7), datetime.timedelta(days=7),\n",
       "       datetime.timedelta(days=7), datetime.timedelta(days=7),\n",
       "       datetime.timedelta(days=8), datetime.timedelta(days=7),\n",
       "       datetime.timedelta(days=7), datetime.timedelta(days=7),\n",
       "       datetime.timedelta(days=7), datetime.timedelta(days=7),\n",
       "       datetime.timedelta(days=7), datetime.timedelta(days=7),\n",
       "       datetime.timedelta(days=7), datetime.timedelta(days=7),\n",
       "       datetime.timedelta(days=7), datetime.timedelta(days=7),\n",
       "       datetime.timedelta(days=7), datetime.timedelta(days=7),\n",
       "       datetime.timedelta(days=7), datetime.timedelta(days=7),\n",
       "       datetime.timedelta(days=7), datetime.timedelta(days=7),\n",
       "       datetime.timedelta(days=7), datetime.timedelta(days=7),\n",
       "       datetime.timedelta(days=7), datetime.timedelta(days=13),\n",
       "       datetime.timedelta(days=7), datetime.timedelta(days=7),\n",
       "       datetime.timedelta(days=7), datetime.timedelta(days=7),\n",
       "       datetime.timedelta(days=7), datetime.timedelta(days=7),\n",
       "       datetime.timedelta(days=7), datetime.timedelta(days=7),\n",
       "       datetime.timedelta(days=7), datetime.timedelta(days=7),\n",
       "       datetime.timedelta(days=7), datetime.timedelta(days=9),\n",
       "       datetime.timedelta(days=7), datetime.timedelta(days=7),\n",
       "       datetime.timedelta(days=7), datetime.timedelta(days=7),\n",
       "       datetime.timedelta(days=14), datetime.timedelta(days=7),\n",
       "       datetime.timedelta(days=7), datetime.timedelta(days=7),\n",
       "       datetime.timedelta(days=7), datetime.timedelta(days=7),\n",
       "       datetime.timedelta(days=7), datetime.timedelta(days=7),\n",
       "       datetime.timedelta(days=7), datetime.timedelta(days=7),\n",
       "       datetime.timedelta(days=7), datetime.timedelta(days=7),\n",
       "       datetime.timedelta(days=7), datetime.timedelta(days=7),\n",
       "       datetime.timedelta(days=7), datetime.timedelta(days=7),\n",
       "       datetime.timedelta(days=7), datetime.timedelta(days=7),\n",
       "       datetime.timedelta(days=7), datetime.timedelta(days=7),\n",
       "       datetime.timedelta(days=7), datetime.timedelta(days=7),\n",
       "       datetime.timedelta(days=7), datetime.timedelta(days=7),\n",
       "       datetime.timedelta(days=7), datetime.timedelta(days=7),\n",
       "       datetime.timedelta(days=7), datetime.timedelta(days=7),\n",
       "       datetime.timedelta(days=7), datetime.timedelta(days=7),\n",
       "       datetime.timedelta(days=7), datetime.timedelta(days=7),\n",
       "       datetime.timedelta(days=7), datetime.timedelta(days=12),\n",
       "       datetime.timedelta(days=7), datetime.timedelta(days=7),\n",
       "       datetime.timedelta(days=7), datetime.timedelta(days=7),\n",
       "       datetime.timedelta(days=7), datetime.timedelta(days=7),\n",
       "       datetime.timedelta(days=7), datetime.timedelta(days=7),\n",
       "       datetime.timedelta(days=7), datetime.timedelta(days=7),\n",
       "       datetime.timedelta(days=7), datetime.timedelta(days=7),\n",
       "       datetime.timedelta(days=7), datetime.timedelta(days=7),\n",
       "       datetime.timedelta(days=7), datetime.timedelta(days=14),\n",
       "       datetime.timedelta(days=7), datetime.timedelta(days=7),\n",
       "       datetime.timedelta(days=7), datetime.timedelta(days=7),\n",
       "       datetime.timedelta(days=7), datetime.timedelta(days=7),\n",
       "       datetime.timedelta(days=7), datetime.timedelta(days=7),\n",
       "       datetime.timedelta(days=8), datetime.timedelta(days=7),\n",
       "       datetime.timedelta(days=7), datetime.timedelta(days=7),\n",
       "       datetime.timedelta(days=7), datetime.timedelta(days=7),\n",
       "       datetime.timedelta(days=7), datetime.timedelta(days=7),\n",
       "       datetime.timedelta(days=7), datetime.timedelta(days=7),\n",
       "       datetime.timedelta(days=7), datetime.timedelta(days=7),\n",
       "       datetime.timedelta(days=7), datetime.timedelta(days=7),\n",
       "       datetime.timedelta(days=7), datetime.timedelta(days=7),\n",
       "       datetime.timedelta(days=7), datetime.timedelta(days=7),\n",
       "       datetime.timedelta(days=7), datetime.timedelta(days=7),\n",
       "       datetime.timedelta(days=7), datetime.timedelta(days=7),\n",
       "       datetime.timedelta(days=7), datetime.timedelta(days=7),\n",
       "       datetime.timedelta(days=7), datetime.timedelta(days=7),\n",
       "       datetime.timedelta(days=10), datetime.timedelta(days=7),\n",
       "       datetime.timedelta(days=7), datetime.timedelta(days=7),\n",
       "       datetime.timedelta(days=7), datetime.timedelta(days=7),\n",
       "       datetime.timedelta(days=7), datetime.timedelta(days=7),\n",
       "       datetime.timedelta(days=7), datetime.timedelta(days=7),\n",
       "       datetime.timedelta(days=7), datetime.timedelta(days=7),\n",
       "       datetime.timedelta(days=10), datetime.timedelta(days=7),\n",
       "       datetime.timedelta(days=7), datetime.timedelta(days=7),\n",
       "       datetime.timedelta(days=7), datetime.timedelta(days=7),\n",
       "       datetime.timedelta(days=14), datetime.timedelta(days=7),\n",
       "       datetime.timedelta(days=7), datetime.timedelta(days=7),\n",
       "       datetime.timedelta(days=7), datetime.timedelta(days=7),\n",
       "       datetime.timedelta(days=8), datetime.timedelta(days=7),\n",
       "       datetime.timedelta(days=7), datetime.timedelta(days=7),\n",
       "       datetime.timedelta(days=7), datetime.timedelta(days=7),\n",
       "       datetime.timedelta(days=7), datetime.timedelta(days=7),\n",
       "       datetime.timedelta(days=7), datetime.timedelta(days=7),\n",
       "       datetime.timedelta(days=9), datetime.timedelta(days=7),\n",
       "       datetime.timedelta(days=7), datetime.timedelta(days=7),\n",
       "       datetime.timedelta(days=7), datetime.timedelta(days=7),\n",
       "       datetime.timedelta(days=7), datetime.timedelta(days=7),\n",
       "       datetime.timedelta(days=7), datetime.timedelta(days=7),\n",
       "       datetime.timedelta(days=7), datetime.timedelta(days=7),\n",
       "       datetime.timedelta(days=7), datetime.timedelta(days=7),\n",
       "       datetime.timedelta(days=11), datetime.timedelta(days=11),\n",
       "       datetime.timedelta(days=7), datetime.timedelta(days=7),\n",
       "       datetime.timedelta(days=7), datetime.timedelta(days=7),\n",
       "       datetime.timedelta(days=7), datetime.timedelta(days=7),\n",
       "       datetime.timedelta(days=7), datetime.timedelta(days=7),\n",
       "       datetime.timedelta(days=7), datetime.timedelta(days=7),\n",
       "       datetime.timedelta(days=7), datetime.timedelta(days=7),\n",
       "       datetime.timedelta(days=7), datetime.timedelta(days=7),\n",
       "       datetime.timedelta(days=7), datetime.timedelta(days=7),\n",
       "       datetime.timedelta(days=12), datetime.timedelta(days=7),\n",
       "       datetime.timedelta(days=7), datetime.timedelta(days=7),\n",
       "       datetime.timedelta(days=7), datetime.timedelta(days=7),\n",
       "       datetime.timedelta(days=7), datetime.timedelta(days=7),\n",
       "       datetime.timedelta(days=7), datetime.timedelta(days=7),\n",
       "       datetime.timedelta(days=7), datetime.timedelta(days=7),\n",
       "       datetime.timedelta(days=7), datetime.timedelta(days=7),\n",
       "       datetime.timedelta(days=7), datetime.timedelta(days=7),\n",
       "       datetime.timedelta(days=7), datetime.timedelta(days=7),\n",
       "       datetime.timedelta(days=7), datetime.timedelta(days=7),\n",
       "       datetime.timedelta(days=7), datetime.timedelta(days=7),\n",
       "       datetime.timedelta(days=7), datetime.timedelta(days=7),\n",
       "       datetime.timedelta(days=7), datetime.timedelta(days=7),\n",
       "       datetime.timedelta(days=7), datetime.timedelta(days=7),\n",
       "       datetime.timedelta(days=7), datetime.timedelta(days=7),\n",
       "       datetime.timedelta(days=7), datetime.timedelta(days=7),\n",
       "       datetime.timedelta(days=7), datetime.timedelta(days=7),\n",
       "       datetime.timedelta(days=12), datetime.timedelta(days=7),\n",
       "       datetime.timedelta(days=7), datetime.timedelta(days=7),\n",
       "       datetime.timedelta(days=7), datetime.timedelta(days=7),\n",
       "       datetime.timedelta(days=7), datetime.timedelta(days=7),\n",
       "       datetime.timedelta(days=7), datetime.timedelta(days=7),\n",
       "       datetime.timedelta(days=7), datetime.timedelta(days=7),\n",
       "       datetime.timedelta(days=9), datetime.timedelta(days=7),\n",
       "       datetime.timedelta(days=7), datetime.timedelta(days=12),\n",
       "       datetime.timedelta(days=7), datetime.timedelta(days=7),\n",
       "       datetime.timedelta(days=7), datetime.timedelta(days=7),\n",
       "       datetime.timedelta(days=7), datetime.timedelta(days=7),\n",
       "       datetime.timedelta(days=7), datetime.timedelta(days=7),\n",
       "       datetime.timedelta(days=10), datetime.timedelta(days=7),\n",
       "       datetime.timedelta(days=7), datetime.timedelta(days=7),\n",
       "       datetime.timedelta(days=7), datetime.timedelta(days=7),\n",
       "       datetime.timedelta(days=7), datetime.timedelta(days=7),\n",
       "       datetime.timedelta(days=7), datetime.timedelta(days=7),\n",
       "       datetime.timedelta(days=7), datetime.timedelta(days=7),\n",
       "       datetime.timedelta(days=7), datetime.timedelta(days=7),\n",
       "       datetime.timedelta(days=7), datetime.timedelta(days=7),\n",
       "       datetime.timedelta(days=7), datetime.timedelta(days=7),\n",
       "       datetime.timedelta(days=7), datetime.timedelta(days=7),\n",
       "       datetime.timedelta(days=7), datetime.timedelta(days=7),\n",
       "       datetime.timedelta(days=7), datetime.timedelta(days=7),\n",
       "       datetime.timedelta(days=7), datetime.timedelta(days=7),\n",
       "       datetime.timedelta(days=11), datetime.timedelta(days=7),\n",
       "       datetime.timedelta(days=7), datetime.timedelta(days=7),\n",
       "       datetime.timedelta(days=7), datetime.timedelta(days=7),\n",
       "       datetime.timedelta(days=7), datetime.timedelta(days=7),\n",
       "       datetime.timedelta(days=7), datetime.timedelta(days=7),\n",
       "       datetime.timedelta(days=7), datetime.timedelta(days=7),\n",
       "       datetime.timedelta(days=7), datetime.timedelta(days=7),\n",
       "       datetime.timedelta(days=7), datetime.timedelta(days=7),\n",
       "       datetime.timedelta(days=7), datetime.timedelta(days=7),\n",
       "       datetime.timedelta(days=14), datetime.timedelta(days=7),\n",
       "       datetime.timedelta(days=7), datetime.timedelta(days=7),\n",
       "       datetime.timedelta(days=7), datetime.timedelta(days=7),\n",
       "       datetime.timedelta(days=7), datetime.timedelta(days=7),\n",
       "       datetime.timedelta(days=7), datetime.timedelta(days=7),\n",
       "       datetime.timedelta(days=10), datetime.timedelta(days=7),\n",
       "       datetime.timedelta(days=7), datetime.timedelta(days=7),\n",
       "       datetime.timedelta(days=7), datetime.timedelta(days=7),\n",
       "       datetime.timedelta(days=7), datetime.timedelta(days=7),\n",
       "       datetime.timedelta(days=7), datetime.timedelta(days=7),\n",
       "       datetime.timedelta(days=7), datetime.timedelta(days=7),\n",
       "       datetime.timedelta(days=7), datetime.timedelta(days=7),\n",
       "       datetime.timedelta(days=7), datetime.timedelta(days=7),\n",
       "       datetime.timedelta(days=7), datetime.timedelta(days=7),\n",
       "       datetime.timedelta(days=7), datetime.timedelta(days=7),\n",
       "       datetime.timedelta(days=11), datetime.timedelta(days=7),\n",
       "       datetime.timedelta(days=8), datetime.timedelta(days=7),\n",
       "       datetime.timedelta(days=7), datetime.timedelta(days=7),\n",
       "       datetime.timedelta(days=7), datetime.timedelta(days=7),\n",
       "       datetime.timedelta(days=7), datetime.timedelta(days=7),\n",
       "       datetime.timedelta(days=7), datetime.timedelta(days=7),\n",
       "       datetime.timedelta(days=7), datetime.timedelta(days=7),\n",
       "       datetime.timedelta(days=7), datetime.timedelta(days=7),\n",
       "       datetime.timedelta(days=7), datetime.timedelta(days=7),\n",
       "       datetime.timedelta(days=7), datetime.timedelta(days=10),\n",
       "       datetime.timedelta(days=7), datetime.timedelta(days=7),\n",
       "       datetime.timedelta(days=7), datetime.timedelta(days=7),\n",
       "       datetime.timedelta(days=7), datetime.timedelta(days=7),\n",
       "       datetime.timedelta(days=7), datetime.timedelta(days=7),\n",
       "       datetime.timedelta(days=7), datetime.timedelta(days=7),\n",
       "       datetime.timedelta(days=7), datetime.timedelta(days=10),\n",
       "       datetime.timedelta(days=7), datetime.timedelta(days=7),\n",
       "       datetime.timedelta(days=7), datetime.timedelta(days=8),\n",
       "       datetime.timedelta(days=7), datetime.timedelta(days=7),\n",
       "       datetime.timedelta(days=7), datetime.timedelta(days=7),\n",
       "       datetime.timedelta(days=7), datetime.timedelta(days=7),\n",
       "       datetime.timedelta(days=7), datetime.timedelta(days=7),\n",
       "       datetime.timedelta(days=7), datetime.timedelta(days=7),\n",
       "       datetime.timedelta(days=7), datetime.timedelta(days=7),\n",
       "       datetime.timedelta(days=7), datetime.timedelta(days=7),\n",
       "       datetime.timedelta(days=7), datetime.timedelta(days=7),\n",
       "       datetime.timedelta(days=7), datetime.timedelta(days=8),\n",
       "       datetime.timedelta(days=7), datetime.timedelta(days=7),\n",
       "       datetime.timedelta(days=7), datetime.timedelta(days=7),\n",
       "       datetime.timedelta(days=7), datetime.timedelta(days=7),\n",
       "       datetime.timedelta(days=7), datetime.timedelta(days=7),\n",
       "       datetime.timedelta(days=7), datetime.timedelta(days=7),\n",
       "       datetime.timedelta(days=7), datetime.timedelta(days=7),\n",
       "       datetime.timedelta(days=7), datetime.timedelta(days=7),\n",
       "       datetime.timedelta(days=7), datetime.timedelta(days=7),\n",
       "       datetime.timedelta(days=7), datetime.timedelta(days=7),\n",
       "       datetime.timedelta(days=14), datetime.timedelta(days=7),\n",
       "       datetime.timedelta(days=7), datetime.timedelta(days=7),\n",
       "       datetime.timedelta(days=7), datetime.timedelta(days=7),\n",
       "       datetime.timedelta(days=7), datetime.timedelta(days=7),\n",
       "       datetime.timedelta(days=7), datetime.timedelta(days=7),\n",
       "       datetime.timedelta(days=7), datetime.timedelta(days=7),\n",
       "       datetime.timedelta(days=7), datetime.timedelta(days=7),\n",
       "       datetime.timedelta(days=7), datetime.timedelta(days=7),\n",
       "       datetime.timedelta(days=7), datetime.timedelta(days=7),\n",
       "       datetime.timedelta(days=7), datetime.timedelta(days=7),\n",
       "       datetime.timedelta(days=7), datetime.timedelta(days=7),\n",
       "       datetime.timedelta(days=7), datetime.timedelta(days=7),\n",
       "       datetime.timedelta(days=7), datetime.timedelta(days=7),\n",
       "       datetime.timedelta(days=7), datetime.timedelta(days=7),\n",
       "       datetime.timedelta(days=7), datetime.timedelta(days=7),\n",
       "       datetime.timedelta(days=7), datetime.timedelta(days=7),\n",
       "       datetime.timedelta(days=8), datetime.timedelta(days=7),\n",
       "       datetime.timedelta(days=7), datetime.timedelta(days=7),\n",
       "       datetime.timedelta(days=7), datetime.timedelta(days=7),\n",
       "       datetime.timedelta(days=7), datetime.timedelta(days=7),\n",
       "       datetime.timedelta(days=7), datetime.timedelta(days=7),\n",
       "       datetime.timedelta(days=7), datetime.timedelta(days=7),\n",
       "       datetime.timedelta(days=7), datetime.timedelta(days=7),\n",
       "       datetime.timedelta(days=7), datetime.timedelta(days=7),\n",
       "       datetime.timedelta(days=7), datetime.timedelta(days=7),\n",
       "       datetime.timedelta(days=11), datetime.timedelta(days=7),\n",
       "       datetime.timedelta(days=7), datetime.timedelta(days=7),\n",
       "       datetime.timedelta(days=7), datetime.timedelta(days=7),\n",
       "       datetime.timedelta(days=7), datetime.timedelta(days=8),\n",
       "       datetime.timedelta(days=7), datetime.timedelta(days=7),\n",
       "       datetime.timedelta(days=7), datetime.timedelta(days=7),\n",
       "       datetime.timedelta(days=7), datetime.timedelta(days=7),\n",
       "       datetime.timedelta(days=7), datetime.timedelta(days=7),\n",
       "       datetime.timedelta(days=7), datetime.timedelta(days=7),\n",
       "       datetime.timedelta(days=7), datetime.timedelta(days=7),\n",
       "       datetime.timedelta(days=7), datetime.timedelta(days=7),\n",
       "       datetime.timedelta(days=7), datetime.timedelta(days=7),\n",
       "       datetime.timedelta(days=7), datetime.timedelta(days=7),\n",
       "       datetime.timedelta(days=7), datetime.timedelta(days=7),\n",
       "       datetime.timedelta(days=7), datetime.timedelta(days=7),\n",
       "       datetime.timedelta(days=7), datetime.timedelta(days=7),\n",
       "       datetime.timedelta(days=7), datetime.timedelta(days=13),\n",
       "       datetime.timedelta(days=7), datetime.timedelta(days=7),\n",
       "       datetime.timedelta(days=7), datetime.timedelta(days=7),\n",
       "       datetime.timedelta(days=7), datetime.timedelta(days=7),\n",
       "       datetime.timedelta(days=7), datetime.timedelta(days=7),\n",
       "       datetime.timedelta(days=7), datetime.timedelta(days=7),\n",
       "       datetime.timedelta(days=7), datetime.timedelta(days=8),\n",
       "       datetime.timedelta(days=7), datetime.timedelta(days=7),\n",
       "       datetime.timedelta(days=7), datetime.timedelta(days=10),\n",
       "       datetime.timedelta(days=7), datetime.timedelta(days=7),\n",
       "       datetime.timedelta(days=7), datetime.timedelta(days=7),\n",
       "       datetime.timedelta(days=7), datetime.timedelta(days=7),\n",
       "       datetime.timedelta(days=7), datetime.timedelta(days=7),\n",
       "       datetime.timedelta(days=7), datetime.timedelta(days=7),\n",
       "       datetime.timedelta(days=7), datetime.timedelta(days=7),\n",
       "       datetime.timedelta(days=7), datetime.timedelta(days=7),\n",
       "       datetime.timedelta(days=7), datetime.timedelta(days=7),\n",
       "       datetime.timedelta(days=7), datetime.timedelta(days=7),\n",
       "       datetime.timedelta(days=7), datetime.timedelta(days=7),\n",
       "       datetime.timedelta(days=7), datetime.timedelta(days=7),\n",
       "       datetime.timedelta(days=7), datetime.timedelta(days=7),\n",
       "       datetime.timedelta(days=7), datetime.timedelta(days=7),\n",
       "       datetime.timedelta(days=7), datetime.timedelta(days=7),\n",
       "       datetime.timedelta(days=7), datetime.timedelta(days=7),\n",
       "       datetime.timedelta(days=7), datetime.timedelta(days=7),\n",
       "       datetime.timedelta(days=7), datetime.timedelta(days=7),\n",
       "       datetime.timedelta(days=10), datetime.timedelta(days=7),\n",
       "       datetime.timedelta(days=7), datetime.timedelta(days=7),\n",
       "       datetime.timedelta(days=7), datetime.timedelta(days=7),\n",
       "       datetime.timedelta(days=7), datetime.timedelta(days=7),\n",
       "       datetime.timedelta(days=7), datetime.timedelta(days=7),\n",
       "       datetime.timedelta(days=7), datetime.timedelta(days=7),\n",
       "       datetime.timedelta(days=8), datetime.timedelta(days=7),\n",
       "       datetime.timedelta(days=7), datetime.timedelta(days=7),\n",
       "       datetime.timedelta(days=7), datetime.timedelta(days=7),\n",
       "       datetime.timedelta(days=7), datetime.timedelta(days=9),\n",
       "       datetime.timedelta(days=7), datetime.timedelta(days=7),\n",
       "       datetime.timedelta(days=7), datetime.timedelta(days=7),\n",
       "       datetime.timedelta(days=7), datetime.timedelta(days=11),\n",
       "       datetime.timedelta(days=7), datetime.timedelta(days=7),\n",
       "       datetime.timedelta(days=9), datetime.timedelta(days=7),\n",
       "       datetime.timedelta(days=7), datetime.timedelta(days=7),\n",
       "       datetime.timedelta(days=7), datetime.timedelta(days=7),\n",
       "       datetime.timedelta(days=7), datetime.timedelta(days=7),\n",
       "       datetime.timedelta(days=7), datetime.timedelta(days=7),\n",
       "       datetime.timedelta(days=7), datetime.timedelta(days=7),\n",
       "       datetime.timedelta(days=7), datetime.timedelta(days=7),\n",
       "       datetime.timedelta(days=7), datetime.timedelta(days=7),\n",
       "       datetime.timedelta(days=7), datetime.timedelta(days=7),\n",
       "       datetime.timedelta(days=7), datetime.timedelta(days=7),\n",
       "       datetime.timedelta(days=7), datetime.timedelta(days=7),\n",
       "       datetime.timedelta(days=12), datetime.timedelta(days=7),\n",
       "       datetime.timedelta(days=7), datetime.timedelta(days=7),\n",
       "       datetime.timedelta(days=7), datetime.timedelta(days=7),\n",
       "       datetime.timedelta(days=7), datetime.timedelta(days=7),\n",
       "       datetime.timedelta(days=7), datetime.timedelta(days=7),\n",
       "       datetime.timedelta(days=7), datetime.timedelta(days=7),\n",
       "       datetime.timedelta(days=9), datetime.timedelta(days=7),\n",
       "       datetime.timedelta(days=7), datetime.timedelta(days=7),\n",
       "       datetime.timedelta(days=7), datetime.timedelta(days=12),\n",
       "       datetime.timedelta(days=7), datetime.timedelta(days=7),\n",
       "       datetime.timedelta(days=7), datetime.timedelta(days=7),\n",
       "       datetime.timedelta(days=7), datetime.timedelta(days=7),\n",
       "       datetime.timedelta(days=7), datetime.timedelta(days=7),\n",
       "       datetime.timedelta(days=7), datetime.timedelta(days=7),\n",
       "       datetime.timedelta(days=7), datetime.timedelta(days=7),\n",
       "       datetime.timedelta(days=7), datetime.timedelta(days=7),\n",
       "       datetime.timedelta(days=7), datetime.timedelta(days=7),\n",
       "       datetime.timedelta(days=7), datetime.timedelta(days=7),\n",
       "       datetime.timedelta(days=7), datetime.timedelta(days=7),\n",
       "       datetime.timedelta(days=7), datetime.timedelta(days=7),\n",
       "       datetime.timedelta(days=7), datetime.timedelta(days=7),\n",
       "       datetime.timedelta(days=7), datetime.timedelta(days=7),\n",
       "       datetime.timedelta(days=7), datetime.timedelta(days=7),\n",
       "       datetime.timedelta(days=7), datetime.timedelta(days=7),\n",
       "       datetime.timedelta(days=7), datetime.timedelta(days=7),\n",
       "       datetime.timedelta(days=7), datetime.timedelta(days=8),\n",
       "       datetime.timedelta(days=7), datetime.timedelta(days=7),\n",
       "       datetime.timedelta(days=7), datetime.timedelta(days=7),\n",
       "       datetime.timedelta(days=7), datetime.timedelta(days=7),\n",
       "       datetime.timedelta(days=7), datetime.timedelta(days=7),\n",
       "       datetime.timedelta(days=7), datetime.timedelta(days=7),\n",
       "       datetime.timedelta(days=7), datetime.timedelta(days=7),\n",
       "       datetime.timedelta(days=7), datetime.timedelta(days=7),\n",
       "       datetime.timedelta(days=7), datetime.timedelta(days=13),\n",
       "       datetime.timedelta(days=7), datetime.timedelta(days=7),\n",
       "       datetime.timedelta(days=7), datetime.timedelta(days=7),\n",
       "       datetime.timedelta(days=7), datetime.timedelta(days=7),\n",
       "       datetime.timedelta(days=7), datetime.timedelta(days=7),\n",
       "       datetime.timedelta(days=8), datetime.timedelta(days=7),\n",
       "       datetime.timedelta(days=7), datetime.timedelta(days=7),\n",
       "       datetime.timedelta(days=8), datetime.timedelta(days=7),\n",
       "       datetime.timedelta(days=7), datetime.timedelta(days=7),\n",
       "       datetime.timedelta(days=7), datetime.timedelta(days=7),\n",
       "       datetime.timedelta(days=7), datetime.timedelta(days=7),\n",
       "       datetime.timedelta(days=7), datetime.timedelta(days=7),\n",
       "       datetime.timedelta(days=7), datetime.timedelta(days=7),\n",
       "       datetime.timedelta(days=7), datetime.timedelta(days=7),\n",
       "       datetime.timedelta(days=7), datetime.timedelta(days=7),\n",
       "       datetime.timedelta(days=7), datetime.timedelta(days=7),\n",
       "       datetime.timedelta(days=7), datetime.timedelta(days=7),\n",
       "       datetime.timedelta(days=7), datetime.timedelta(days=7),\n",
       "       datetime.timedelta(days=9), datetime.timedelta(days=7),\n",
       "       datetime.timedelta(days=7), datetime.timedelta(days=7),\n",
       "       datetime.timedelta(days=7), datetime.timedelta(days=7),\n",
       "       datetime.timedelta(days=7), datetime.timedelta(days=7),\n",
       "       datetime.timedelta(days=7), datetime.timedelta(days=7),\n",
       "       datetime.timedelta(days=7), datetime.timedelta(days=7),\n",
       "       datetime.timedelta(days=10), datetime.timedelta(days=7),\n",
       "       datetime.timedelta(days=7), datetime.timedelta(days=7),\n",
       "       datetime.timedelta(days=7), datetime.timedelta(days=7),\n",
       "       datetime.timedelta(days=10), datetime.timedelta(days=7),\n",
       "       datetime.timedelta(days=7), datetime.timedelta(days=7),\n",
       "       datetime.timedelta(days=7), datetime.timedelta(days=7),\n",
       "       datetime.timedelta(days=7), datetime.timedelta(days=7),\n",
       "       datetime.timedelta(days=7), datetime.timedelta(days=7),\n",
       "       datetime.timedelta(days=7), datetime.timedelta(days=7),\n",
       "       datetime.timedelta(days=7), datetime.timedelta(days=7),\n",
       "       datetime.timedelta(days=7), datetime.timedelta(days=7),\n",
       "       datetime.timedelta(days=7), datetime.timedelta(days=7),\n",
       "       datetime.timedelta(days=7), datetime.timedelta(days=7),\n",
       "       datetime.timedelta(days=7), datetime.timedelta(days=7),\n",
       "       datetime.timedelta(days=7), datetime.timedelta(days=7),\n",
       "       datetime.timedelta(days=7), datetime.timedelta(days=7),\n",
       "       datetime.timedelta(days=7), datetime.timedelta(days=7),\n",
       "       datetime.timedelta(days=7), datetime.timedelta(days=7),\n",
       "       datetime.timedelta(days=7), datetime.timedelta(days=7),\n",
       "       datetime.timedelta(days=7), datetime.timedelta(days=8),\n",
       "       datetime.timedelta(days=7), datetime.timedelta(days=7),\n",
       "       datetime.timedelta(days=7), datetime.timedelta(days=7),\n",
       "       datetime.timedelta(days=7), datetime.timedelta(days=7),\n",
       "       datetime.timedelta(days=7), datetime.timedelta(days=7),\n",
       "       datetime.timedelta(days=7), datetime.timedelta(days=7),\n",
       "       datetime.timedelta(days=7), datetime.timedelta(days=7),\n",
       "       datetime.timedelta(days=7), datetime.timedelta(days=7),\n",
       "       datetime.timedelta(days=7), datetime.timedelta(days=7),\n",
       "       datetime.timedelta(days=10), datetime.timedelta(days=7),\n",
       "       datetime.timedelta(days=7), datetime.timedelta(days=7),\n",
       "       datetime.timedelta(days=7), datetime.timedelta(days=7),\n",
       "       datetime.timedelta(days=7), datetime.timedelta(days=7),\n",
       "       datetime.timedelta(days=9), datetime.timedelta(days=7),\n",
       "       datetime.timedelta(days=7), datetime.timedelta(days=7),\n",
       "       datetime.timedelta(days=8), datetime.timedelta(days=7)],\n",
       "      dtype=object)"
      ]
     },
     "execution_count": 5,
     "metadata": {},
     "output_type": "execute_result"
    }
   ],
   "source": [
    "np.diff(np.array(n))"
   ]
  },
  {
   "cell_type": "code",
   "execution_count": 8,
   "id": "8ef21c1c",
   "metadata": {},
   "outputs": [],
   "source": [
    "from datetime import date, timedelta\n",
    "from dateutil.relativedelta import relativedelta"
   ]
  },
  {
   "cell_type": "code",
   "execution_count": 12,
   "id": "d6dbf7b6",
   "metadata": {},
   "outputs": [
    {
     "data": {
      "text/plain": [
       "2"
      ]
     },
     "execution_count": 12,
     "metadata": {},
     "output_type": "execute_result"
    }
   ],
   "source": [
    "d = '2005-02-08'\n",
    "d = date.fromisoformat(d)\n",
    "\n",
    "d.isoweekday()"
   ]
  },
  {
   "cell_type": "code",
   "execution_count": 13,
   "id": "91c69910",
   "metadata": {},
   "outputs": [
    {
     "data": {
      "text/plain": [
       "datetime.date"
      ]
     },
     "execution_count": 13,
     "metadata": {},
     "output_type": "execute_result"
    }
   ],
   "source": [
    "'2014-01-06'"
   ]
  },
  {
   "cell_type": "code",
   "execution_count": 3,
   "id": "70d3e8f6",
   "metadata": {},
   "outputs": [
    {
     "name": "stdout",
     "output_type": "stream",
     "text": [
      "...Returning Tickers...\n",
      "Total available stocks: 4714\n"
     ]
    }
   ],
   "source": [
    "tickers = dm.get_tickers()"
   ]
  },
  {
   "cell_type": "code",
   "execution_count": 7,
   "id": "08933ced",
   "metadata": {},
   "outputs": [
    {
     "data": {
      "text/plain": [
       "'sh600018'"
      ]
     },
     "execution_count": 7,
     "metadata": {},
     "output_type": "execute_result"
    }
   ],
   "source": [
    "tickers[12]"
   ]
  },
  {
   "cell_type": "code",
   "execution_count": 6,
   "id": "2573400d",
   "metadata": {},
   "outputs": [],
   "source": [
    "pf = Portfolio(tickers, 'Test')"
   ]
  },
  {
   "cell_type": "code",
   "execution_count": 23,
   "id": "a1d97975",
   "metadata": {},
   "outputs": [
    {
     "name": "stdout",
     "output_type": "stream",
     "text": [
      "Maximum allocation is reached for short!\n"
     ]
    }
   ],
   "source": [
    "pf.allocate_position(tickers[12], -200)"
   ]
  },
  {
   "cell_type": "code",
   "execution_count": 24,
   "id": "58dfa451",
   "metadata": {},
   "outputs": [
    {
     "data": {
      "text/plain": [
       "-100"
      ]
     },
     "execution_count": 24,
     "metadata": {},
     "output_type": "execute_result"
    }
   ],
   "source": [
    "pf.get_position(tickers[12])"
   ]
  },
  {
   "cell_type": "code",
   "execution_count": 25,
   "id": "051b54a5",
   "metadata": {},
   "outputs": [],
   "source": [
    "price_changes = {tickers[12] : -.5}\n",
    "pf.update_portfolio(price_changes)"
   ]
  },
  {
   "cell_type": "code",
   "execution_count": 26,
   "id": "15963b44",
   "metadata": {},
   "outputs": [
    {
     "name": "stdout",
     "output_type": "stream",
     "text": [
      "Total Value Portfolio: 150.5\n",
      "Total Long Position: 0\n",
      "Total Long Position: 0\n"
     ]
    },
    {
     "ename": "TypeError",
     "evalue": "__str__ returned non-string (type NoneType)",
     "output_type": "error",
     "traceback": [
      "\u001b[0;31m---------------------------------------------------------------------------\u001b[0m",
      "\u001b[0;31mTypeError\u001b[0m                                 Traceback (most recent call last)",
      "Input \u001b[0;32mIn [26]\u001b[0m, in \u001b[0;36m<cell line: 1>\u001b[0;34m()\u001b[0m\n\u001b[0;32m----> 1\u001b[0m \u001b[38;5;28;43mprint\u001b[39;49m\u001b[43m(\u001b[49m\u001b[43mpf\u001b[49m\u001b[43m)\u001b[49m\n",
      "\u001b[0;31mTypeError\u001b[0m: __str__ returned non-string (type NoneType)"
     ]
    }
   ],
   "source": [
    "print(pf)"
   ]
  },
  {
   "cell_type": "code",
   "execution_count": 5,
   "id": "ab86aa56",
   "metadata": {},
   "outputs": [],
   "source": [
    "prices, dates = dm.get_prices('sz301279', days_from_end_date=10)"
   ]
  },
  {
   "cell_type": "code",
   "execution_count": 10,
   "id": "30f6f982",
   "metadata": {},
   "outputs": [
    {
     "name": "stdout",
     "output_type": "stream",
     "text": [
      "open : The open price of the trading day\n",
      "close : The close price of the trading day\n",
      "high : The highest price of the trading day\n",
      "low : The lowest price of the trading day\n",
      "volume : The trading volume of the trading day\n",
      "outstanding_share : A company's stock currently held by all its shareholders\n",
      "turnover : A measure of stock liquidity, calculated by dividing the total number of shares traded during the trading day by the average number of shares outstanding for the same trading day.\n",
      "pe : PE (price to earnings) ratio\n",
      "pe_ttm : Trailing Twelve Months PE ratio: the current share price divided by thelast 4 quarterly EPS (earnings per share).\n",
      "pb : PB ratio (price to book ratio)\n",
      "ps : PS ratio (price to sales ratio)\n",
      "ps_ttm : Trailing 12 months PS ratio\n",
      "dv_ratio : Dividend yield ratio (the percentage of a company's share price that it pays out)\n",
      "dv_ttm : Trailing 12 months Dividend yield ratio\n",
      "total_mv : Total market capitalization\n",
      "qfq_factor : The price adjustment factor\n"
     ]
    }
   ],
   "source": [
    "dm.print_available_features()"
   ]
  },
  {
   "cell_type": "code",
   "execution_count": 11,
   "id": "fbde0875",
   "metadata": {},
   "outputs": [],
   "source": [
    "values, dates = dm.get_feature('pb','sz301279', days_from_end_date=10)"
   ]
  },
  {
   "cell_type": "code",
   "execution_count": 12,
   "id": "f77f097f",
   "metadata": {},
   "outputs": [
    {
     "data": {
      "text/plain": [
       "array([2.4922, 2.1326, 1.9233, 1.9476, 1.8514, 1.919 , 2.0668, 2.1099,\n",
       "       2.1283, 2.1738, 2.0939])"
      ]
     },
     "execution_count": 12,
     "metadata": {},
     "output_type": "execute_result"
    }
   ],
   "source": [
    "values"
   ]
  },
  {
   "cell_type": "code",
   "execution_count": 13,
   "id": "6215c26c",
   "metadata": {},
   "outputs": [
    {
     "data": {
      "text/plain": [
       "array(['2022-04-22', '2022-04-25', '2022-04-26', '2022-04-27',\n",
       "       '2022-04-28', '2022-04-29', '2022-05-05', '2022-05-06',\n",
       "       '2022-05-09', '2022-05-10', '2022-05-11'], dtype=object)"
      ]
     },
     "execution_count": 13,
     "metadata": {},
     "output_type": "execute_result"
    }
   ],
   "source": [
    "dates"
   ]
  },
  {
   "cell_type": "code",
   "execution_count": 14,
   "id": "fc78f361",
   "metadata": {},
   "outputs": [
    {
     "name": "stdout",
     "output_type": "stream",
     "text": [
      "...Returning Tickers...\n",
      "Total available stocks: 4714\n"
     ]
    },
    {
     "data": {
      "text/plain": [
       "array(['sh600000', 'sh600004', 'sh600006', ..., 'sz301268', 'sz301279',\n",
       "       'sz301288'], dtype=object)"
      ]
     },
     "execution_count": 14,
     "metadata": {},
     "output_type": "execute_result"
    }
   ],
   "source": [
    "dm.get_tickers()"
   ]
  },
  {
   "cell_type": "code",
   "execution_count": null,
   "id": "26984c78",
   "metadata": {},
   "outputs": [],
   "source": []
  }
 ],
 "metadata": {
  "kernelspec": {
   "display_name": "Python 3 (ipykernel)",
   "language": "python",
   "name": "python3"
  },
  "language_info": {
   "codemirror_mode": {
    "name": "ipython",
    "version": 3
   },
   "file_extension": ".py",
   "mimetype": "text/x-python",
   "name": "python",
   "nbconvert_exporter": "python",
   "pygments_lexer": "ipython3",
   "version": "3.10.4"
  }
 },
 "nbformat": 4,
 "nbformat_minor": 5
}
