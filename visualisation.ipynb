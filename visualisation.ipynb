{
 "cells": [
  {
   "cell_type": "code",
   "execution_count": 1,
   "id": "190ea66b",
   "metadata": {},
   "outputs": [],
   "source": [
    "import numpy as np\n",
    "import pandas as pd\n",
    "\n",
    "from datamodule import DataModule\n",
    "from portfolio import Portfolio\n",
    "from simulator import Simulator\n",
    "\n",
    "from strategies.base_strategy import TestStrategy"
   ]
  },
  {
   "cell_type": "code",
   "execution_count": 2,
   "id": "6389dbc9",
   "metadata": {},
   "outputs": [],
   "source": [
    "# tickers = pd.read_csv(\"./data/ticker_info.csv\")\n",
    "# data = pd.read_csv(\"./data/stock_data.csv\")\n",
    "\n",
    "# for idx, l in enumerate(['a', 'b'][1:]):\n",
    "#     print(idx)\n",
    "#     print(l)"
   ]
  },
  {
   "cell_type": "code",
   "execution_count": 3,
   "id": "478fa7ba",
   "metadata": {},
   "outputs": [],
   "source": [
    "dm = DataModule()\n",
    "pf = Portfolio()\n",
    "sr = TestStrategy()\n",
    "sm = Simulator(dm, pf, sr, 'yearly')"
   ]
  },
  {
   "cell_type": "code",
   "execution_count": 4,
   "id": "14ffe6b4",
   "metadata": {},
   "outputs": [
    {
     "name": "stderr",
     "output_type": "stream",
     "text": [
      "Simulation in progress:  17%|██████▋                                 | 3/18 [00:01<00:05,  2.84it/s]"
     ]
    },
    {
     "name": "stdout",
     "output_type": "stream",
     "text": [
      "0.36\n"
     ]
    },
    {
     "name": "stderr",
     "output_type": "stream",
     "text": [
      "\r",
      "Simulation in progress:  22%|████████▉                               | 4/18 [00:02<00:07,  1.80it/s]"
     ]
    },
    {
     "name": "stdout",
     "output_type": "stream",
     "text": [
      "2.0700000000000003\n"
     ]
    },
    {
     "name": "stderr",
     "output_type": "stream",
     "text": [
      "\r",
      "Simulation in progress:  28%|███████████                             | 5/18 [00:03<00:09,  1.36it/s]"
     ]
    },
    {
     "name": "stdout",
     "output_type": "stream",
     "text": [
      "4.535\n"
     ]
    },
    {
     "name": "stderr",
     "output_type": "stream",
     "text": [
      "\r",
      "Simulation in progress:  33%|█████████████▎                          | 6/18 [00:04<00:10,  1.17it/s]"
     ]
    },
    {
     "name": "stdout",
     "output_type": "stream",
     "text": [
      "-5.09\n"
     ]
    },
    {
     "name": "stderr",
     "output_type": "stream",
     "text": [
      "\r",
      "Simulation in progress:  39%|███████████████▌                        | 7/18 [00:05<00:10,  1.07it/s]"
     ]
    },
    {
     "name": "stdout",
     "output_type": "stream",
     "text": [
      "3.2500000000000004\n"
     ]
    },
    {
     "name": "stderr",
     "output_type": "stream",
     "text": [
      "\r",
      "Simulation in progress:  44%|█████████████████▊                      | 8/18 [00:06<00:10,  1.01s/it]"
     ]
    },
    {
     "name": "stdout",
     "output_type": "stream",
     "text": [
      "-1.3950000000000005\n"
     ]
    },
    {
     "name": "stderr",
     "output_type": "stream",
     "text": [
      "\r",
      "Simulation in progress:  50%|████████████████████                    | 9/18 [00:07<00:09,  1.05s/it]"
     ]
    },
    {
     "name": "stdout",
     "output_type": "stream",
     "text": [
      "-0.4950000000000001\n"
     ]
    },
    {
     "name": "stderr",
     "output_type": "stream",
     "text": [
      "\r",
      "Simulation in progress:  56%|█████████████████████▋                 | 10/18 [00:08<00:08,  1.07s/it]"
     ]
    },
    {
     "name": "stdout",
     "output_type": "stream",
     "text": [
      "0.9299999999999997\n"
     ]
    },
    {
     "name": "stderr",
     "output_type": "stream",
     "text": [
      "\r",
      "Simulation in progress:  61%|███████████████████████▊               | 11/18 [00:09<00:07,  1.08s/it]"
     ]
    },
    {
     "name": "stdout",
     "output_type": "stream",
     "text": [
      "-0.15000000000000036\n"
     ]
    },
    {
     "name": "stderr",
     "output_type": "stream",
     "text": [
      "\r",
      "Simulation in progress:  67%|██████████████████████████             | 12/18 [00:10<00:06,  1.05s/it]"
     ]
    },
    {
     "name": "stdout",
     "output_type": "stream",
     "text": [
      "4.085000000000001\n"
     ]
    },
    {
     "name": "stderr",
     "output_type": "stream",
     "text": [
      "\r",
      "Simulation in progress:  72%|████████████████████████████▏          | 13/18 [00:12<00:05,  1.07s/it]"
     ]
    },
    {
     "name": "stdout",
     "output_type": "stream",
     "text": [
      "1.6150000000000002\n"
     ]
    },
    {
     "name": "stderr",
     "output_type": "stream",
     "text": [
      "\r",
      "Simulation in progress:  78%|██████████████████████████████▎        | 14/18 [00:13<00:04,  1.08s/it]"
     ]
    },
    {
     "name": "stdout",
     "output_type": "stream",
     "text": [
      "0.25\n"
     ]
    },
    {
     "name": "stderr",
     "output_type": "stream",
     "text": [
      "\r",
      "Simulation in progress:  83%|████████████████████████████████▌      | 15/18 [00:14<00:03,  1.09s/it]"
     ]
    },
    {
     "name": "stdout",
     "output_type": "stream",
     "text": [
      "0.254999999999999\n"
     ]
    },
    {
     "name": "stderr",
     "output_type": "stream",
     "text": [
      "\r",
      "Simulation in progress:  89%|██████████████████████████████████▋    | 16/18 [00:15<00:02,  1.12s/it]"
     ]
    },
    {
     "name": "stdout",
     "output_type": "stream",
     "text": [
      "-2.3649999999999984\n"
     ]
    },
    {
     "name": "stderr",
     "output_type": "stream",
     "text": [
      "\r",
      "Simulation in progress:  94%|████████████████████████████████████▊  | 17/18 [00:16<00:01,  1.11s/it]"
     ]
    },
    {
     "name": "stdout",
     "output_type": "stream",
     "text": [
      "2.6549999999999994\n"
     ]
    },
    {
     "name": "stderr",
     "output_type": "stream",
     "text": [
      "Simulation in progress: 100%|███████████████████████████████████████| 18/18 [00:17<00:00,  1.02it/s]"
     ]
    },
    {
     "name": "stdout",
     "output_type": "stream",
     "text": [
      "-2.075000000000001\n"
     ]
    },
    {
     "name": "stderr",
     "output_type": "stream",
     "text": [
      "\n"
     ]
    }
   ],
   "source": [
    "sm.simulate(False)"
   ]
  },
  {
   "cell_type": "code",
   "execution_count": 5,
   "id": "417e37ac",
   "metadata": {},
   "outputs": [
    {
     "ename": "AttributeError",
     "evalue": "'Simulator' object has no attribute 'value_cache'",
     "output_type": "error",
     "traceback": [
      "\u001b[0;31m---------------------------------------------------------------------------\u001b[0m",
      "\u001b[0;31mAttributeError\u001b[0m                            Traceback (most recent call last)",
      "Input \u001b[0;32mIn [5]\u001b[0m, in \u001b[0;36m<cell line: 1>\u001b[0;34m()\u001b[0m\n\u001b[0;32m----> 1\u001b[0m \u001b[43msm\u001b[49m\u001b[38;5;241;43m.\u001b[39;49m\u001b[43mcompute_metrics\u001b[49m\u001b[43m(\u001b[49m\u001b[43m)\u001b[49m\n",
      "File \u001b[0;32m~/projects/python/strategy-ratios/simulator.py:137\u001b[0m, in \u001b[0;36mSimulator.compute_metrics\u001b[0;34m(self, risk_free_rate, log_metrics_wandb, verbose)\u001b[0m\n\u001b[1;32m    135\u001b[0m \u001b[38;5;28;01mdef\u001b[39;00m \u001b[38;5;21mcompute_metrics\u001b[39m(\u001b[38;5;28mself\u001b[39m, risk_free_rate\u001b[38;5;241m=\u001b[39m\u001b[38;5;241m.01\u001b[39m, log_metrics_wandb\u001b[38;5;241m=\u001b[39m\u001b[38;5;28;01mTrue\u001b[39;00m, verbose\u001b[38;5;241m=\u001b[39m\u001b[38;5;28;01mFalse\u001b[39;00m):\n\u001b[1;32m    136\u001b[0m     \u001b[38;5;66;03m# Return to Drawdown\u001b[39;00m\n\u001b[0;32m--> 137\u001b[0m     \u001b[38;5;28mself\u001b[39m\u001b[38;5;241m.\u001b[39mreturn_to_drawdown \u001b[38;5;241m=\u001b[39m \u001b[38;5;28;43mself\u001b[39;49m\u001b[38;5;241;43m.\u001b[39;49m\u001b[43mvalue_cache\u001b[49m[\u001b[38;5;241m-\u001b[39m\u001b[38;5;241m1\u001b[39m] \u001b[38;5;241m/\u001b[39m \u001b[38;5;28mmin\u001b[39m(\u001b[38;5;28mself\u001b[39m\u001b[38;5;241m.\u001b[39mvalue_cache)\n\u001b[1;32m    139\u001b[0m     \u001b[38;5;66;03m# Sharpe\u001b[39;00m\n\u001b[1;32m    140\u001b[0m     excess_return \u001b[38;5;241m=\u001b[39m np\u001b[38;5;241m.\u001b[39marray([val \u001b[38;5;241m/\u001b[39m \u001b[38;5;28mself\u001b[39m\u001b[38;5;241m.\u001b[39mvalue_cache[\u001b[38;5;241m0\u001b[39m] \u001b[38;5;28;01mfor\u001b[39;00m val \u001b[38;5;129;01min\u001b[39;00m \u001b[38;5;28mself\u001b[39m\u001b[38;5;241m.\u001b[39mvalue_cache[\u001b[38;5;241m1\u001b[39m:]]) \u001b[38;5;241m-\u001b[39m risk_free_rate\n",
      "\u001b[0;31mAttributeError\u001b[0m: 'Simulator' object has no attribute 'value_cache'"
     ]
    }
   ],
   "source": [
    "sm.compute_metrics()"
   ]
  },
  {
   "cell_type": "code",
   "execution_count": 49,
   "id": "3f20c479",
   "metadata": {},
   "outputs": [
    {
     "data": {
      "text/plain": [
       "['2005-01-04', '2006-01-04']"
      ]
     },
     "execution_count": 49,
     "metadata": {},
     "output_type": "execute_result"
    }
   ],
   "source": [
    "_"
   ]
  },
  {
   "cell_type": "code",
   "execution_count": 50,
   "id": "8ef21c1c",
   "metadata": {},
   "outputs": [],
   "source": [
    "g = sm.datamodule.data[sm.datamodule.data['date'].isin(_)]"
   ]
  },
  {
   "cell_type": "code",
   "execution_count": 57,
   "id": "af813cdd",
   "metadata": {},
   "outputs": [],
   "source": [
    "d = g[g['ticker'] == 'sh600000']['price'].diff().to_numpy()"
   ]
  },
  {
   "cell_type": "code",
   "execution_count": 59,
   "id": "93d438dc",
   "metadata": {},
   "outputs": [
    {
     "data": {
      "text/plain": [
       "0.36"
      ]
     },
     "execution_count": 59,
     "metadata": {},
     "output_type": "execute_result"
    }
   ],
   "source": [
    "d[-1]"
   ]
  },
  {
   "cell_type": "code",
   "execution_count": 21,
   "id": "d6dbf7b6",
   "metadata": {},
   "outputs": [
    {
     "ename": "NameError",
     "evalue": "name 'date' is not defined",
     "output_type": "error",
     "traceback": [
      "\u001b[0;31m---------------------------------------------------------------------------\u001b[0m",
      "\u001b[0;31mNameError\u001b[0m                                 Traceback (most recent call last)",
      "Input \u001b[0;32mIn [21]\u001b[0m, in \u001b[0;36m<cell line: 2>\u001b[0;34m()\u001b[0m\n\u001b[1;32m      1\u001b[0m d \u001b[38;5;241m=\u001b[39m \u001b[38;5;124m'\u001b[39m\u001b[38;5;124m2005-02-08\u001b[39m\u001b[38;5;124m'\u001b[39m\n\u001b[0;32m----> 2\u001b[0m d \u001b[38;5;241m=\u001b[39m \u001b[43mdate\u001b[49m\u001b[38;5;241m.\u001b[39mfromisoformat(d)\n\u001b[1;32m      4\u001b[0m d\u001b[38;5;241m.\u001b[39misoweekday()\n",
      "\u001b[0;31mNameError\u001b[0m: name 'date' is not defined"
     ]
    }
   ],
   "source": [
    "d = '2005-02-08'\n",
    "d = date.fromisoformat(d)\n",
    "\n",
    "d.isoweekday()"
   ]
  },
  {
   "cell_type": "code",
   "execution_count": 11,
   "id": "91c69910",
   "metadata": {},
   "outputs": [
    {
     "name": "stdout",
     "output_type": "stream",
     "text": [
      "5\n",
      "6\n",
      "7\n",
      "8\n",
      "9\n"
     ]
    }
   ],
   "source": [
    "for i in range(10):\n",
    "    if i < 5:\n",
    "        continue\n",
    "    print(i)"
   ]
  },
  {
   "cell_type": "code",
   "execution_count": 6,
   "id": "70d3e8f6",
   "metadata": {},
   "outputs": [
    {
     "data": {
      "text/plain": [
       "array([0, 1, 2])"
      ]
     },
     "execution_count": 6,
     "metadata": {},
     "output_type": "execute_result"
    }
   ],
   "source": [
    "np.array([1,2,3]) - 1"
   ]
  },
  {
   "cell_type": "code",
   "execution_count": 7,
   "id": "08933ced",
   "metadata": {},
   "outputs": [
    {
     "data": {
      "text/plain": [
       "'sh600018'"
      ]
     },
     "execution_count": 7,
     "metadata": {},
     "output_type": "execute_result"
    }
   ],
   "source": [
    "tickers[12]"
   ]
  },
  {
   "cell_type": "code",
   "execution_count": 6,
   "id": "2573400d",
   "metadata": {},
   "outputs": [],
   "source": [
    "pf = Portfolio(tickers, 'Test')"
   ]
  },
  {
   "cell_type": "code",
   "execution_count": 23,
   "id": "a1d97975",
   "metadata": {},
   "outputs": [
    {
     "name": "stdout",
     "output_type": "stream",
     "text": [
      "Maximum allocation is reached for short!\n"
     ]
    }
   ],
   "source": [
    "pf.allocate_position(tickers[12], -200)"
   ]
  },
  {
   "cell_type": "code",
   "execution_count": 24,
   "id": "58dfa451",
   "metadata": {},
   "outputs": [
    {
     "data": {
      "text/plain": [
       "-100"
      ]
     },
     "execution_count": 24,
     "metadata": {},
     "output_type": "execute_result"
    }
   ],
   "source": [
    "pf.get_position(tickers[12])"
   ]
  },
  {
   "cell_type": "code",
   "execution_count": 25,
   "id": "051b54a5",
   "metadata": {},
   "outputs": [],
   "source": [
    "price_changes = {tickers[12] : -.5}\n",
    "pf.update_portfolio(price_changes)"
   ]
  },
  {
   "cell_type": "code",
   "execution_count": 26,
   "id": "15963b44",
   "metadata": {},
   "outputs": [
    {
     "name": "stdout",
     "output_type": "stream",
     "text": [
      "Total Value Portfolio: 150.5\n",
      "Total Long Position: 0\n",
      "Total Long Position: 0\n"
     ]
    },
    {
     "ename": "TypeError",
     "evalue": "__str__ returned non-string (type NoneType)",
     "output_type": "error",
     "traceback": [
      "\u001b[0;31m---------------------------------------------------------------------------\u001b[0m",
      "\u001b[0;31mTypeError\u001b[0m                                 Traceback (most recent call last)",
      "Input \u001b[0;32mIn [26]\u001b[0m, in \u001b[0;36m<cell line: 1>\u001b[0;34m()\u001b[0m\n\u001b[0;32m----> 1\u001b[0m \u001b[38;5;28;43mprint\u001b[39;49m\u001b[43m(\u001b[49m\u001b[43mpf\u001b[49m\u001b[43m)\u001b[49m\n",
      "\u001b[0;31mTypeError\u001b[0m: __str__ returned non-string (type NoneType)"
     ]
    }
   ],
   "source": [
    "print(pf)"
   ]
  },
  {
   "cell_type": "code",
   "execution_count": 5,
   "id": "ab86aa56",
   "metadata": {},
   "outputs": [],
   "source": [
    "prices, dates = dm.get_prices('sz301279', days_from_end_date=10)"
   ]
  },
  {
   "cell_type": "code",
   "execution_count": 10,
   "id": "30f6f982",
   "metadata": {},
   "outputs": [
    {
     "name": "stdout",
     "output_type": "stream",
     "text": [
      "open : The open price of the trading day\n",
      "close : The close price of the trading day\n",
      "high : The highest price of the trading day\n",
      "low : The lowest price of the trading day\n",
      "volume : The trading volume of the trading day\n",
      "outstanding_share : A company's stock currently held by all its shareholders\n",
      "turnover : A measure of stock liquidity, calculated by dividing the total number of shares traded during the trading day by the average number of shares outstanding for the same trading day.\n",
      "pe : PE (price to earnings) ratio\n",
      "pe_ttm : Trailing Twelve Months PE ratio: the current share price divided by thelast 4 quarterly EPS (earnings per share).\n",
      "pb : PB ratio (price to book ratio)\n",
      "ps : PS ratio (price to sales ratio)\n",
      "ps_ttm : Trailing 12 months PS ratio\n",
      "dv_ratio : Dividend yield ratio (the percentage of a company's share price that it pays out)\n",
      "dv_ttm : Trailing 12 months Dividend yield ratio\n",
      "total_mv : Total market capitalization\n",
      "qfq_factor : The price adjustment factor\n"
     ]
    }
   ],
   "source": [
    "dm.print_available_features()"
   ]
  },
  {
   "cell_type": "code",
   "execution_count": 11,
   "id": "fbde0875",
   "metadata": {},
   "outputs": [],
   "source": [
    "values, dates = dm.get_feature('pb','sz301279', days_from_end_date=10)"
   ]
  },
  {
   "cell_type": "code",
   "execution_count": 12,
   "id": "f77f097f",
   "metadata": {},
   "outputs": [
    {
     "data": {
      "text/plain": [
       "array([2.4922, 2.1326, 1.9233, 1.9476, 1.8514, 1.919 , 2.0668, 2.1099,\n",
       "       2.1283, 2.1738, 2.0939])"
      ]
     },
     "execution_count": 12,
     "metadata": {},
     "output_type": "execute_result"
    }
   ],
   "source": [
    "values"
   ]
  },
  {
   "cell_type": "code",
   "execution_count": 13,
   "id": "6215c26c",
   "metadata": {},
   "outputs": [
    {
     "data": {
      "text/plain": [
       "array(['2022-04-22', '2022-04-25', '2022-04-26', '2022-04-27',\n",
       "       '2022-04-28', '2022-04-29', '2022-05-05', '2022-05-06',\n",
       "       '2022-05-09', '2022-05-10', '2022-05-11'], dtype=object)"
      ]
     },
     "execution_count": 13,
     "metadata": {},
     "output_type": "execute_result"
    }
   ],
   "source": [
    "dates"
   ]
  },
  {
   "cell_type": "code",
   "execution_count": 14,
   "id": "fc78f361",
   "metadata": {},
   "outputs": [
    {
     "name": "stdout",
     "output_type": "stream",
     "text": [
      "...Returning Tickers...\n",
      "Total available stocks: 4714\n"
     ]
    },
    {
     "data": {
      "text/plain": [
       "array(['sh600000', 'sh600004', 'sh600006', ..., 'sz301268', 'sz301279',\n",
       "       'sz301288'], dtype=object)"
      ]
     },
     "execution_count": 14,
     "metadata": {},
     "output_type": "execute_result"
    }
   ],
   "source": [
    "dm.get_tickers()"
   ]
  },
  {
   "cell_type": "code",
   "execution_count": null,
   "id": "26984c78",
   "metadata": {},
   "outputs": [],
   "source": []
  }
 ],
 "metadata": {
  "kernelspec": {
   "display_name": "Python 3 (ipykernel)",
   "language": "python",
   "name": "python3"
  },
  "language_info": {
   "codemirror_mode": {
    "name": "ipython",
    "version": 3
   },
   "file_extension": ".py",
   "mimetype": "text/x-python",
   "name": "python",
   "nbconvert_exporter": "python",
   "pygments_lexer": "ipython3",
   "version": "3.10.4"
  }
 },
 "nbformat": 4,
 "nbformat_minor": 5
}
