{
 "cells": [
  {
   "cell_type": "code",
   "execution_count": 1,
   "id": "190ea66b",
   "metadata": {},
   "outputs": [],
   "source": [
    "import numpy as np\n",
    "import pandas as pd\n",
    "\n",
    "from datamodule import DataModule\n",
    "from portfolio import Portfolio\n",
    "from simulator import Simulator\n",
    "\n",
    "\n",
    "from strategies.base_strategy import TestStrategy\n",
    "from strategies.ols_ratios import OLSRatios"
   ]
  },
  {
   "cell_type": "code",
   "execution_count": 2,
   "id": "478fa7ba",
   "metadata": {},
   "outputs": [],
   "source": [
    "dm = DataModule()\n",
    "pf = Portfolio()\n",
    "sr = OLSRatios()\n",
    "sm = Simulator(dm, pf, sr, 'weekly', start_date='2022-01-11')"
   ]
  },
  {
   "cell_type": "code",
   "execution_count": 3,
   "id": "14ffe6b4",
   "metadata": {},
   "outputs": [
    {
     "name": "stderr",
     "output_type": "stream",
     "text": [
      "Simulation in progress:  44%|█████████████████▌                      | 7/16 [00:20<00:26,  2.94s/it]"
     ]
    },
    {
     "name": "stdout",
     "output_type": "stream",
     "text": [
      "2022-02-28\n",
      "98.96224061359621\n"
     ]
    },
    {
     "name": "stderr",
     "output_type": "stream",
     "text": [
      "\r",
      "Simulation in progress:  50%|████████████████████                    | 8/16 [00:23<00:22,  2.86s/it]"
     ]
    },
    {
     "name": "stdout",
     "output_type": "stream",
     "text": [
      "2022-03-07\n",
      "101.24175454273752\n"
     ]
    },
    {
     "name": "stderr",
     "output_type": "stream",
     "text": [
      "\r",
      "Simulation in progress:  56%|██████████████████████▌                 | 9/16 [00:25<00:19,  2.78s/it]"
     ]
    },
    {
     "name": "stdout",
     "output_type": "stream",
     "text": [
      "2022-03-14\n",
      "101.16631633003166\n"
     ]
    },
    {
     "name": "stderr",
     "output_type": "stream",
     "text": [
      "\r",
      "Simulation in progress:  62%|████████████████████████▍              | 10/16 [00:27<00:16,  2.70s/it]"
     ]
    },
    {
     "name": "stdout",
     "output_type": "stream",
     "text": [
      "2022-03-21\n",
      "99.82346702096412\n"
     ]
    },
    {
     "name": "stderr",
     "output_type": "stream",
     "text": [
      "\r",
      "Simulation in progress:  69%|██████████████████████████▊            | 11/16 [00:30<00:13,  2.65s/it]"
     ]
    },
    {
     "name": "stdout",
     "output_type": "stream",
     "text": [
      "2022-03-28\n",
      "101.82249459117048\n"
     ]
    },
    {
     "name": "stderr",
     "output_type": "stream",
     "text": [
      "\r",
      "Simulation in progress:  75%|█████████████████████████████▎         | 12/16 [00:32<00:10,  2.60s/it]"
     ]
    },
    {
     "name": "stdout",
     "output_type": "stream",
     "text": [
      "2022-04-06\n",
      "103.78579358309959\n"
     ]
    },
    {
     "name": "stderr",
     "output_type": "stream",
     "text": [
      "\r",
      "Simulation in progress:  81%|███████████████████████████████▋       | 13/16 [00:35<00:07,  2.56s/it]"
     ]
    },
    {
     "name": "stdout",
     "output_type": "stream",
     "text": [
      "2022-04-13\n",
      "106.55589919669796\n"
     ]
    },
    {
     "name": "stderr",
     "output_type": "stream",
     "text": [
      "\r",
      "Simulation in progress:  88%|██████████████████████████████████▏    | 14/16 [00:37<00:05,  2.52s/it]"
     ]
    },
    {
     "name": "stdout",
     "output_type": "stream",
     "text": [
      "2022-04-20\n",
      "107.45414676757503\n"
     ]
    },
    {
     "name": "stderr",
     "output_type": "stream",
     "text": [
      "\r",
      "Simulation in progress:  94%|████████████████████████████████████▌  | 15/16 [00:40<00:02,  2.50s/it]"
     ]
    },
    {
     "name": "stdout",
     "output_type": "stream",
     "text": [
      "2022-04-27\n",
      "108.70947609801566\n"
     ]
    },
    {
     "name": "stderr",
     "output_type": "stream",
     "text": [
      "Simulation in progress: 100%|███████████████████████████████████████| 16/16 [00:42<00:00,  2.67s/it]"
     ]
    },
    {
     "name": "stdout",
     "output_type": "stream",
     "text": [
      "2022-05-05\n",
      "107.73094986299732\n"
     ]
    },
    {
     "name": "stderr",
     "output_type": "stream",
     "text": [
      "\n"
     ]
    }
   ],
   "source": [
    "sm.simulate(False)"
   ]
  },
  {
   "cell_type": "code",
   "execution_count": 4,
   "id": "417e37ac",
   "metadata": {},
   "outputs": [
    {
     "name": "stdout",
     "output_type": "stream",
     "text": [
      "Sharpe: 0.80\n",
      "Return to Drawdown: 1.09\n"
     ]
    }
   ],
   "source": [
    "sm.compute_metrics(log_metrics_wandb=False, verbose=True)"
   ]
  },
  {
   "cell_type": "code",
   "execution_count": null,
   "id": "33c18764",
   "metadata": {},
   "outputs": [],
   "source": []
  }
 ],
 "metadata": {
  "kernelspec": {
   "display_name": "Python 3 (ipykernel)",
   "language": "python",
   "name": "python3"
  },
  "language_info": {
   "codemirror_mode": {
    "name": "ipython",
    "version": 3
   },
   "file_extension": ".py",
   "mimetype": "text/x-python",
   "name": "python",
   "nbconvert_exporter": "python",
   "pygments_lexer": "ipython3",
   "version": "3.10.4"
  }
 },
 "nbformat": 4,
 "nbformat_minor": 5
}
