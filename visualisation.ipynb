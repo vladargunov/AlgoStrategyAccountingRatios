{
 "cells": [
  {
   "cell_type": "code",
   "execution_count": 1,
   "id": "190ea66b",
   "metadata": {},
   "outputs": [],
   "source": [
    "import numpy as np\n",
    "import pandas as pd\n",
    "\n",
    "from datamodule import DataModule"
   ]
  },
  {
   "cell_type": "code",
   "execution_count": 2,
   "id": "6389dbc9",
   "metadata": {},
   "outputs": [],
   "source": [
    "# tickers = pd.read_csv(\"./data/ticker_info.csv\")\n",
    "# data = pd.read_csv(\"./data/stock_data.csv\")"
   ]
  },
  {
   "cell_type": "code",
   "execution_count": 3,
   "id": "77b0e0bf",
   "metadata": {},
   "outputs": [
    {
     "data": {
      "text/html": [
       "<div>\n",
       "<style scoped>\n",
       "    .dataframe tbody tr th:only-of-type {\n",
       "        vertical-align: middle;\n",
       "    }\n",
       "\n",
       "    .dataframe tbody tr th {\n",
       "        vertical-align: top;\n",
       "    }\n",
       "\n",
       "    .dataframe thead th {\n",
       "        text-align: right;\n",
       "    }\n",
       "</style>\n",
       "<table border=\"1\" class=\"dataframe\">\n",
       "  <thead>\n",
       "    <tr style=\"text-align: right;\">\n",
       "      <th></th>\n",
       "      <th>date</th>\n",
       "      <th>ticker</th>\n",
       "      <th>open</th>\n",
       "      <th>high</th>\n",
       "      <th>low</th>\n",
       "      <th>close</th>\n",
       "      <th>volume</th>\n",
       "      <th>outstanding_share</th>\n",
       "      <th>turnover</th>\n",
       "      <th>pe</th>\n",
       "      <th>pe_ttm</th>\n",
       "      <th>pb</th>\n",
       "      <th>ps</th>\n",
       "      <th>ps_ttm</th>\n",
       "      <th>dv_ratio</th>\n",
       "      <th>dv_ttm</th>\n",
       "      <th>total_mv</th>\n",
       "      <th>qfq_factor</th>\n",
       "    </tr>\n",
       "  </thead>\n",
       "  <tbody>\n",
       "    <tr>\n",
       "      <th>0</th>\n",
       "      <td>2005-01-04</td>\n",
       "      <td>sh600000</td>\n",
       "      <td>0.77</td>\n",
       "      <td>0.77</td>\n",
       "      <td>0.75</td>\n",
       "      <td>0.76</td>\n",
       "      <td>3808939.0</td>\n",
       "      <td>900000000.0</td>\n",
       "      <td>0.004232</td>\n",
       "      <td>17.1990</td>\n",
       "      <td>14.4219</td>\n",
       "      <td>2.0777</td>\n",
       "      <td>3.1439</td>\n",
       "      <td>2.2097</td>\n",
       "      <td>6.9549</td>\n",
       "      <td>6.9549</td>\n",
       "      <td>2693520.0</td>\n",
       "      <td>8.895254</td>\n",
       "    </tr>\n",
       "    <tr>\n",
       "      <th>1</th>\n",
       "      <td>2005-01-05</td>\n",
       "      <td>sh600000</td>\n",
       "      <td>0.76</td>\n",
       "      <td>0.76</td>\n",
       "      <td>0.74</td>\n",
       "      <td>0.75</td>\n",
       "      <td>5225244.0</td>\n",
       "      <td>900000000.0</td>\n",
       "      <td>0.005806</td>\n",
       "      <td>16.9240</td>\n",
       "      <td>14.1913</td>\n",
       "      <td>2.0445</td>\n",
       "      <td>3.0937</td>\n",
       "      <td>2.1744</td>\n",
       "      <td>7.0679</td>\n",
       "      <td>7.0679</td>\n",
       "      <td>2650455.0</td>\n",
       "      <td>8.895254</td>\n",
       "    </tr>\n",
       "    <tr>\n",
       "      <th>2</th>\n",
       "      <td>2005-01-06</td>\n",
       "      <td>sh600000</td>\n",
       "      <td>0.75</td>\n",
       "      <td>0.75</td>\n",
       "      <td>0.73</td>\n",
       "      <td>0.74</td>\n",
       "      <td>4298099.0</td>\n",
       "      <td>900000000.0</td>\n",
       "      <td>0.004776</td>\n",
       "      <td>16.6991</td>\n",
       "      <td>14.0026</td>\n",
       "      <td>2.0173</td>\n",
       "      <td>3.0525</td>\n",
       "      <td>2.1455</td>\n",
       "      <td>7.1632</td>\n",
       "      <td>7.1632</td>\n",
       "      <td>2615220.0</td>\n",
       "      <td>8.895254</td>\n",
       "    </tr>\n",
       "    <tr>\n",
       "      <th>3</th>\n",
       "      <td>2005-01-07</td>\n",
       "      <td>sh600000</td>\n",
       "      <td>0.74</td>\n",
       "      <td>0.75</td>\n",
       "      <td>0.73</td>\n",
       "      <td>0.74</td>\n",
       "      <td>4362864.0</td>\n",
       "      <td>900000000.0</td>\n",
       "      <td>0.004848</td>\n",
       "      <td>16.7491</td>\n",
       "      <td>14.0446</td>\n",
       "      <td>2.0233</td>\n",
       "      <td>3.0617</td>\n",
       "      <td>2.1519</td>\n",
       "      <td>7.1418</td>\n",
       "      <td>7.1418</td>\n",
       "      <td>2623050.0</td>\n",
       "      <td>8.895254</td>\n",
       "    </tr>\n",
       "    <tr>\n",
       "      <th>4</th>\n",
       "      <td>2005-01-10</td>\n",
       "      <td>sh600000</td>\n",
       "      <td>0.75</td>\n",
       "      <td>0.77</td>\n",
       "      <td>0.74</td>\n",
       "      <td>0.77</td>\n",
       "      <td>7115260.0</td>\n",
       "      <td>900000000.0</td>\n",
       "      <td>0.007906</td>\n",
       "      <td>17.3240</td>\n",
       "      <td>14.0575</td>\n",
       "      <td>2.0082</td>\n",
       "      <td>3.1668</td>\n",
       "      <td>2.2258</td>\n",
       "      <td>6.9048</td>\n",
       "      <td>6.9048</td>\n",
       "      <td>2713095.0</td>\n",
       "      <td>8.895254</td>\n",
       "    </tr>\n",
       "  </tbody>\n",
       "</table>\n",
       "</div>"
      ],
      "text/plain": [
       "         date    ticker  open  high   low  close     volume  \\\n",
       "0  2005-01-04  sh600000  0.77  0.77  0.75   0.76  3808939.0   \n",
       "1  2005-01-05  sh600000  0.76  0.76  0.74   0.75  5225244.0   \n",
       "2  2005-01-06  sh600000  0.75  0.75  0.73   0.74  4298099.0   \n",
       "3  2005-01-07  sh600000  0.74  0.75  0.73   0.74  4362864.0   \n",
       "4  2005-01-10  sh600000  0.75  0.77  0.74   0.77  7115260.0   \n",
       "\n",
       "   outstanding_share  turnover       pe   pe_ttm      pb      ps  ps_ttm  \\\n",
       "0        900000000.0  0.004232  17.1990  14.4219  2.0777  3.1439  2.2097   \n",
       "1        900000000.0  0.005806  16.9240  14.1913  2.0445  3.0937  2.1744   \n",
       "2        900000000.0  0.004776  16.6991  14.0026  2.0173  3.0525  2.1455   \n",
       "3        900000000.0  0.004848  16.7491  14.0446  2.0233  3.0617  2.1519   \n",
       "4        900000000.0  0.007906  17.3240  14.0575  2.0082  3.1668  2.2258   \n",
       "\n",
       "   dv_ratio  dv_ttm   total_mv  qfq_factor  \n",
       "0    6.9549  6.9549  2693520.0    8.895254  \n",
       "1    7.0679  7.0679  2650455.0    8.895254  \n",
       "2    7.1632  7.1632  2615220.0    8.895254  \n",
       "3    7.1418  7.1418  2623050.0    8.895254  \n",
       "4    6.9048  6.9048  2713095.0    8.895254  "
      ]
     },
     "execution_count": 3,
     "metadata": {},
     "output_type": "execute_result"
    }
   ],
   "source": [
    "data.head()"
   ]
  },
  {
   "cell_type": "code",
   "execution_count": 3,
   "id": "478fa7ba",
   "metadata": {},
   "outputs": [],
   "source": [
    "dm = DataModule()"
   ]
  },
  {
   "cell_type": "code",
   "execution_count": 4,
   "id": "70d3e8f6",
   "metadata": {},
   "outputs": [
    {
     "name": "stdout",
     "output_type": "stream",
     "text": [
      "...Returning Tickers...\n",
      "Total available stocks: 4714\n"
     ]
    },
    {
     "data": {
      "text/plain": [
       "array(['sh600000', 'sh600004', 'sh600006', ..., 'sz301268', 'sz301279',\n",
       "       'sz301288'], dtype=object)"
      ]
     },
     "execution_count": 4,
     "metadata": {},
     "output_type": "execute_result"
    }
   ],
   "source": [
    "dm.get_tickers()"
   ]
  },
  {
   "cell_type": "code",
   "execution_count": 5,
   "id": "ab86aa56",
   "metadata": {},
   "outputs": [],
   "source": [
    "prices, dates = dm.get_prices('sz301279', days_from_end_date=10)"
   ]
  },
  {
   "cell_type": "code",
   "execution_count": 10,
   "id": "30f6f982",
   "metadata": {},
   "outputs": [
    {
     "name": "stdout",
     "output_type": "stream",
     "text": [
      "open : The open price of the trading day\n",
      "close : The close price of the trading day\n",
      "high : The highest price of the trading day\n",
      "low : The lowest price of the trading day\n",
      "volume : The trading volume of the trading day\n",
      "outstanding_share : A company's stock currently held by all its shareholders\n",
      "turnover : A measure of stock liquidity, calculated by dividing the total number of shares traded during the trading day by the average number of shares outstanding for the same trading day.\n",
      "pe : PE (price to earnings) ratio\n",
      "pe_ttm : Trailing Twelve Months PE ratio: the current share price divided by thelast 4 quarterly EPS (earnings per share).\n",
      "pb : PB ratio (price to book ratio)\n",
      "ps : PS ratio (price to sales ratio)\n",
      "ps_ttm : Trailing 12 months PS ratio\n",
      "dv_ratio : Dividend yield ratio (the percentage of a company's share price that it pays out)\n",
      "dv_ttm : Trailing 12 months Dividend yield ratio\n",
      "total_mv : Total market capitalization\n",
      "qfq_factor : The price adjustment factor\n"
     ]
    }
   ],
   "source": [
    "dm.print_available_features()"
   ]
  },
  {
   "cell_type": "code",
   "execution_count": 11,
   "id": "fbde0875",
   "metadata": {},
   "outputs": [],
   "source": [
    "values, dates = dm.get_feature('pb','sz301279', days_from_end_date=10)"
   ]
  },
  {
   "cell_type": "code",
   "execution_count": 12,
   "id": "f77f097f",
   "metadata": {},
   "outputs": [
    {
     "data": {
      "text/plain": [
       "array([2.4922, 2.1326, 1.9233, 1.9476, 1.8514, 1.919 , 2.0668, 2.1099,\n",
       "       2.1283, 2.1738, 2.0939])"
      ]
     },
     "execution_count": 12,
     "metadata": {},
     "output_type": "execute_result"
    }
   ],
   "source": [
    "values"
   ]
  },
  {
   "cell_type": "code",
   "execution_count": 13,
   "id": "6215c26c",
   "metadata": {},
   "outputs": [
    {
     "data": {
      "text/plain": [
       "array(['2022-04-22', '2022-04-25', '2022-04-26', '2022-04-27',\n",
       "       '2022-04-28', '2022-04-29', '2022-05-05', '2022-05-06',\n",
       "       '2022-05-09', '2022-05-10', '2022-05-11'], dtype=object)"
      ]
     },
     "execution_count": 13,
     "metadata": {},
     "output_type": "execute_result"
    }
   ],
   "source": [
    "dates"
   ]
  },
  {
   "cell_type": "code",
   "execution_count": 14,
   "id": "fc78f361",
   "metadata": {},
   "outputs": [
    {
     "name": "stdout",
     "output_type": "stream",
     "text": [
      "...Returning Tickers...\n",
      "Total available stocks: 4714\n"
     ]
    },
    {
     "data": {
      "text/plain": [
       "array(['sh600000', 'sh600004', 'sh600006', ..., 'sz301268', 'sz301279',\n",
       "       'sz301288'], dtype=object)"
      ]
     },
     "execution_count": 14,
     "metadata": {},
     "output_type": "execute_result"
    }
   ],
   "source": [
    "dm.get_tickers()"
   ]
  },
  {
   "cell_type": "code",
   "execution_count": null,
   "id": "26984c78",
   "metadata": {},
   "outputs": [],
   "source": []
  }
 ],
 "metadata": {
  "kernelspec": {
   "display_name": "Python 3 (ipykernel)",
   "language": "python",
   "name": "python3"
  },
  "language_info": {
   "codemirror_mode": {
    "name": "ipython",
    "version": 3
   },
   "file_extension": ".py",
   "mimetype": "text/x-python",
   "name": "python",
   "nbconvert_exporter": "python",
   "pygments_lexer": "ipython3",
   "version": "3.10.4"
  }
 },
 "nbformat": 4,
 "nbformat_minor": 5
}
